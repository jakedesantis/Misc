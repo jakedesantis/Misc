{
 "cells": [
  {
   "cell_type": "markdown",
   "metadata": {},
   "source": [
    "I just generally import these libraries every time:"
   ]
  },
  {
   "cell_type": "code",
   "execution_count": 1,
   "metadata": {},
   "outputs": [],
   "source": [
    "import pandas as pd\n",
    "import numpy as np\n",
    "import os\n",
    "import matplotlib.pyplot as plt"
   ]
  },
  {
   "cell_type": "markdown",
   "metadata": {},
   "source": [
    "You'll need to get your cwd changed to wherever you save the CSV:"
   ]
  },
  {
   "cell_type": "code",
   "execution_count": 2,
   "metadata": {},
   "outputs": [],
   "source": [
    "os.chdir('c:\\\\Users\\\\jdesantis\\\\Desktop')"
   ]
  },
  {
   "cell_type": "markdown",
   "metadata": {},
   "source": [
    "Read the CSV in as a dataframe object:"
   ]
  },
  {
   "cell_type": "code",
   "execution_count": 3,
   "metadata": {},
   "outputs": [],
   "source": [
    "SPX = pd.read_csv('SPX_moving_average.csv')"
   ]
  },
  {
   "cell_type": "markdown",
   "metadata": {},
   "source": [
    "See what's in it:"
   ]
  },
  {
   "cell_type": "code",
   "execution_count": 4,
   "metadata": {},
   "outputs": [
    {
     "data": {
      "text/html": [
       "<div>\n",
       "<style scoped>\n",
       "    .dataframe tbody tr th:only-of-type {\n",
       "        vertical-align: middle;\n",
       "    }\n",
       "\n",
       "    .dataframe tbody tr th {\n",
       "        vertical-align: top;\n",
       "    }\n",
       "\n",
       "    .dataframe thead th {\n",
       "        text-align: right;\n",
       "    }\n",
       "</style>\n",
       "<table border=\"1\" class=\"dataframe\">\n",
       "  <thead>\n",
       "    <tr style=\"text-align: right;\">\n",
       "      <th></th>\n",
       "      <th>SPX Index</th>\n",
       "      <th>PX_LAST</th>\n",
       "    </tr>\n",
       "  </thead>\n",
       "  <tbody>\n",
       "    <tr>\n",
       "      <td>0</td>\n",
       "      <td>1/22/1990</td>\n",
       "      <td>330.38</td>\n",
       "    </tr>\n",
       "    <tr>\n",
       "      <td>1</td>\n",
       "      <td>1/23/1990</td>\n",
       "      <td>331.61</td>\n",
       "    </tr>\n",
       "    <tr>\n",
       "      <td>2</td>\n",
       "      <td>1/24/1990</td>\n",
       "      <td>330.26</td>\n",
       "    </tr>\n",
       "    <tr>\n",
       "      <td>3</td>\n",
       "      <td>1/25/1990</td>\n",
       "      <td>326.08</td>\n",
       "    </tr>\n",
       "    <tr>\n",
       "      <td>4</td>\n",
       "      <td>1/26/1990</td>\n",
       "      <td>325.80</td>\n",
       "    </tr>\n",
       "    <tr>\n",
       "      <td>5</td>\n",
       "      <td>1/29/1990</td>\n",
       "      <td>325.20</td>\n",
       "    </tr>\n",
       "    <tr>\n",
       "      <td>6</td>\n",
       "      <td>1/30/1990</td>\n",
       "      <td>322.98</td>\n",
       "    </tr>\n",
       "    <tr>\n",
       "      <td>7</td>\n",
       "      <td>1/31/1990</td>\n",
       "      <td>329.08</td>\n",
       "    </tr>\n",
       "    <tr>\n",
       "      <td>8</td>\n",
       "      <td>2/1/1990</td>\n",
       "      <td>328.79</td>\n",
       "    </tr>\n",
       "    <tr>\n",
       "      <td>9</td>\n",
       "      <td>2/2/1990</td>\n",
       "      <td>330.92</td>\n",
       "    </tr>\n",
       "  </tbody>\n",
       "</table>\n",
       "</div>"
      ],
      "text/plain": [
       "   SPX Index  PX_LAST\n",
       "0  1/22/1990   330.38\n",
       "1  1/23/1990   331.61\n",
       "2  1/24/1990   330.26\n",
       "3  1/25/1990   326.08\n",
       "4  1/26/1990   325.80\n",
       "5  1/29/1990   325.20\n",
       "6  1/30/1990   322.98\n",
       "7  1/31/1990   329.08\n",
       "8   2/1/1990   328.79\n",
       "9   2/2/1990   330.92"
      ]
     },
     "execution_count": 4,
     "metadata": {},
     "output_type": "execute_result"
    }
   ],
   "source": [
    "SPX.head(10)"
   ]
  },
  {
   "cell_type": "markdown",
   "metadata": {},
   "source": [
    "Add a column for the moving averages:"
   ]
  },
  {
   "cell_type": "code",
   "execution_count": 5,
   "metadata": {},
   "outputs": [],
   "source": [
    "SPX['MovingAverage'] = 0"
   ]
  },
  {
   "cell_type": "markdown",
   "metadata": {},
   "source": [
    "Check that it was added:"
   ]
  },
  {
   "cell_type": "code",
   "execution_count": 6,
   "metadata": {},
   "outputs": [
    {
     "data": {
      "text/html": [
       "<div>\n",
       "<style scoped>\n",
       "    .dataframe tbody tr th:only-of-type {\n",
       "        vertical-align: middle;\n",
       "    }\n",
       "\n",
       "    .dataframe tbody tr th {\n",
       "        vertical-align: top;\n",
       "    }\n",
       "\n",
       "    .dataframe thead th {\n",
       "        text-align: right;\n",
       "    }\n",
       "</style>\n",
       "<table border=\"1\" class=\"dataframe\">\n",
       "  <thead>\n",
       "    <tr style=\"text-align: right;\">\n",
       "      <th></th>\n",
       "      <th>SPX Index</th>\n",
       "      <th>PX_LAST</th>\n",
       "      <th>MovingAverage</th>\n",
       "    </tr>\n",
       "  </thead>\n",
       "  <tbody>\n",
       "    <tr>\n",
       "      <td>0</td>\n",
       "      <td>1/22/1990</td>\n",
       "      <td>330.38</td>\n",
       "      <td>0</td>\n",
       "    </tr>\n",
       "    <tr>\n",
       "      <td>1</td>\n",
       "      <td>1/23/1990</td>\n",
       "      <td>331.61</td>\n",
       "      <td>0</td>\n",
       "    </tr>\n",
       "    <tr>\n",
       "      <td>2</td>\n",
       "      <td>1/24/1990</td>\n",
       "      <td>330.26</td>\n",
       "      <td>0</td>\n",
       "    </tr>\n",
       "    <tr>\n",
       "      <td>3</td>\n",
       "      <td>1/25/1990</td>\n",
       "      <td>326.08</td>\n",
       "      <td>0</td>\n",
       "    </tr>\n",
       "    <tr>\n",
       "      <td>4</td>\n",
       "      <td>1/26/1990</td>\n",
       "      <td>325.80</td>\n",
       "      <td>0</td>\n",
       "    </tr>\n",
       "  </tbody>\n",
       "</table>\n",
       "</div>"
      ],
      "text/plain": [
       "   SPX Index  PX_LAST  MovingAverage\n",
       "0  1/22/1990   330.38              0\n",
       "1  1/23/1990   331.61              0\n",
       "2  1/24/1990   330.26              0\n",
       "3  1/25/1990   326.08              0\n",
       "4  1/26/1990   325.80              0"
      ]
     },
     "execution_count": 6,
     "metadata": {},
     "output_type": "execute_result"
    }
   ],
   "source": [
    "SPX.head()"
   ]
  },
  {
   "cell_type": "markdown",
   "metadata": {},
   "source": [
    "Set the window size (number of days):"
   ]
  },
  {
   "cell_type": "code",
   "execution_count": 7,
   "metadata": {},
   "outputs": [],
   "source": [
    "w = 10"
   ]
  },
  {
   "cell_type": "markdown",
   "metadata": {},
   "source": [
    "Calculate moving averages and put them in the dataframe:"
   ]
  },
  {
   "cell_type": "code",
   "execution_count": 8,
   "metadata": {},
   "outputs": [],
   "source": [
    "for i in range(0,SPX.shape[0]):\n",
    "    if i > 8:\n",
    "        ma = np.mean(SPX['PX_LAST'][i-9:i])\n",
    "        SPX.loc[i, \"MovingAverage\"] = ma"
   ]
  },
  {
   "cell_type": "code",
   "execution_count": 9,
   "metadata": {},
   "outputs": [
    {
     "data": {
      "text/html": [
       "<div>\n",
       "<style scoped>\n",
       "    .dataframe tbody tr th:only-of-type {\n",
       "        vertical-align: middle;\n",
       "    }\n",
       "\n",
       "    .dataframe tbody tr th {\n",
       "        vertical-align: top;\n",
       "    }\n",
       "\n",
       "    .dataframe thead th {\n",
       "        text-align: right;\n",
       "    }\n",
       "</style>\n",
       "<table border=\"1\" class=\"dataframe\">\n",
       "  <thead>\n",
       "    <tr style=\"text-align: right;\">\n",
       "      <th></th>\n",
       "      <th>SPX Index</th>\n",
       "      <th>PX_LAST</th>\n",
       "      <th>MovingAverage</th>\n",
       "    </tr>\n",
       "  </thead>\n",
       "  <tbody>\n",
       "    <tr>\n",
       "      <td>0</td>\n",
       "      <td>1/22/1990</td>\n",
       "      <td>330.38</td>\n",
       "      <td>0.000000</td>\n",
       "    </tr>\n",
       "    <tr>\n",
       "      <td>1</td>\n",
       "      <td>1/23/1990</td>\n",
       "      <td>331.61</td>\n",
       "      <td>0.000000</td>\n",
       "    </tr>\n",
       "    <tr>\n",
       "      <td>2</td>\n",
       "      <td>1/24/1990</td>\n",
       "      <td>330.26</td>\n",
       "      <td>0.000000</td>\n",
       "    </tr>\n",
       "    <tr>\n",
       "      <td>3</td>\n",
       "      <td>1/25/1990</td>\n",
       "      <td>326.08</td>\n",
       "      <td>0.000000</td>\n",
       "    </tr>\n",
       "    <tr>\n",
       "      <td>4</td>\n",
       "      <td>1/26/1990</td>\n",
       "      <td>325.80</td>\n",
       "      <td>0.000000</td>\n",
       "    </tr>\n",
       "    <tr>\n",
       "      <td>5</td>\n",
       "      <td>1/29/1990</td>\n",
       "      <td>325.20</td>\n",
       "      <td>0.000000</td>\n",
       "    </tr>\n",
       "    <tr>\n",
       "      <td>6</td>\n",
       "      <td>1/30/1990</td>\n",
       "      <td>322.98</td>\n",
       "      <td>0.000000</td>\n",
       "    </tr>\n",
       "    <tr>\n",
       "      <td>7</td>\n",
       "      <td>1/31/1990</td>\n",
       "      <td>329.08</td>\n",
       "      <td>0.000000</td>\n",
       "    </tr>\n",
       "    <tr>\n",
       "      <td>8</td>\n",
       "      <td>2/1/1990</td>\n",
       "      <td>328.79</td>\n",
       "      <td>0.000000</td>\n",
       "    </tr>\n",
       "    <tr>\n",
       "      <td>9</td>\n",
       "      <td>2/2/1990</td>\n",
       "      <td>330.92</td>\n",
       "      <td>327.797778</td>\n",
       "    </tr>\n",
       "    <tr>\n",
       "      <td>10</td>\n",
       "      <td>2/5/1990</td>\n",
       "      <td>331.85</td>\n",
       "      <td>327.857778</td>\n",
       "    </tr>\n",
       "    <tr>\n",
       "      <td>11</td>\n",
       "      <td>2/6/1990</td>\n",
       "      <td>329.66</td>\n",
       "      <td>327.884444</td>\n",
       "    </tr>\n",
       "    <tr>\n",
       "      <td>12</td>\n",
       "      <td>2/7/1990</td>\n",
       "      <td>333.75</td>\n",
       "      <td>327.817778</td>\n",
       "    </tr>\n",
       "    <tr>\n",
       "      <td>13</td>\n",
       "      <td>2/8/1990</td>\n",
       "      <td>332.96</td>\n",
       "      <td>328.670000</td>\n",
       "    </tr>\n",
       "    <tr>\n",
       "      <td>14</td>\n",
       "      <td>2/9/1990</td>\n",
       "      <td>333.62</td>\n",
       "      <td>329.465556</td>\n",
       "    </tr>\n",
       "    <tr>\n",
       "      <td>15</td>\n",
       "      <td>2/12/1990</td>\n",
       "      <td>330.08</td>\n",
       "      <td>330.401111</td>\n",
       "    </tr>\n",
       "    <tr>\n",
       "      <td>16</td>\n",
       "      <td>2/13/1990</td>\n",
       "      <td>331.02</td>\n",
       "      <td>331.190000</td>\n",
       "    </tr>\n",
       "    <tr>\n",
       "      <td>17</td>\n",
       "      <td>2/14/1990</td>\n",
       "      <td>332.01</td>\n",
       "      <td>331.405556</td>\n",
       "    </tr>\n",
       "    <tr>\n",
       "      <td>18</td>\n",
       "      <td>2/15/1990</td>\n",
       "      <td>334.89</td>\n",
       "      <td>331.763333</td>\n",
       "    </tr>\n",
       "    <tr>\n",
       "      <td>19</td>\n",
       "      <td>2/16/1990</td>\n",
       "      <td>332.72</td>\n",
       "      <td>332.204444</td>\n",
       "    </tr>\n",
       "  </tbody>\n",
       "</table>\n",
       "</div>"
      ],
      "text/plain": [
       "    SPX Index  PX_LAST  MovingAverage\n",
       "0   1/22/1990   330.38       0.000000\n",
       "1   1/23/1990   331.61       0.000000\n",
       "2   1/24/1990   330.26       0.000000\n",
       "3   1/25/1990   326.08       0.000000\n",
       "4   1/26/1990   325.80       0.000000\n",
       "5   1/29/1990   325.20       0.000000\n",
       "6   1/30/1990   322.98       0.000000\n",
       "7   1/31/1990   329.08       0.000000\n",
       "8    2/1/1990   328.79       0.000000\n",
       "9    2/2/1990   330.92     327.797778\n",
       "10   2/5/1990   331.85     327.857778\n",
       "11   2/6/1990   329.66     327.884444\n",
       "12   2/7/1990   333.75     327.817778\n",
       "13   2/8/1990   332.96     328.670000\n",
       "14   2/9/1990   333.62     329.465556\n",
       "15  2/12/1990   330.08     330.401111\n",
       "16  2/13/1990   331.02     331.190000\n",
       "17  2/14/1990   332.01     331.405556\n",
       "18  2/15/1990   334.89     331.763333\n",
       "19  2/16/1990   332.72     332.204444"
      ]
     },
     "execution_count": 9,
     "metadata": {},
     "output_type": "execute_result"
    }
   ],
   "source": [
    "SPX.head(20)"
   ]
  },
  {
   "cell_type": "code",
   "execution_count": 10,
   "metadata": {},
   "outputs": [
    {
     "data": {
      "text/html": [
       "<div>\n",
       "<style scoped>\n",
       "    .dataframe tbody tr th:only-of-type {\n",
       "        vertical-align: middle;\n",
       "    }\n",
       "\n",
       "    .dataframe tbody tr th {\n",
       "        vertical-align: top;\n",
       "    }\n",
       "\n",
       "    .dataframe thead th {\n",
       "        text-align: right;\n",
       "    }\n",
       "</style>\n",
       "<table border=\"1\" class=\"dataframe\">\n",
       "  <thead>\n",
       "    <tr style=\"text-align: right;\">\n",
       "      <th></th>\n",
       "      <th>SPX Index</th>\n",
       "      <th>PX_LAST</th>\n",
       "      <th>MovingAverage</th>\n",
       "    </tr>\n",
       "  </thead>\n",
       "  <tbody>\n",
       "    <tr>\n",
       "      <td>7549</td>\n",
       "      <td>1/8/2020</td>\n",
       "      <td>3253.05</td>\n",
       "      <td>3236.837778</td>\n",
       "    </tr>\n",
       "    <tr>\n",
       "      <td>7550</td>\n",
       "      <td>1/9/2020</td>\n",
       "      <td>3274.70</td>\n",
       "      <td>3240.134444</td>\n",
       "    </tr>\n",
       "    <tr>\n",
       "      <td>7551</td>\n",
       "      <td>1/10/2020</td>\n",
       "      <td>3265.35</td>\n",
       "      <td>3244.000000</td>\n",
       "    </tr>\n",
       "    <tr>\n",
       "      <td>7552</td>\n",
       "      <td>1/13/2020</td>\n",
       "      <td>3288.13</td>\n",
       "      <td>3246.814444</td>\n",
       "    </tr>\n",
       "    <tr>\n",
       "      <td>7553</td>\n",
       "      <td>1/14/2020</td>\n",
       "      <td>3283.15</td>\n",
       "      <td>3254.241111</td>\n",
       "    </tr>\n",
       "  </tbody>\n",
       "</table>\n",
       "</div>"
      ],
      "text/plain": [
       "      SPX Index  PX_LAST  MovingAverage\n",
       "7549   1/8/2020  3253.05    3236.837778\n",
       "7550   1/9/2020  3274.70    3240.134444\n",
       "7551  1/10/2020  3265.35    3244.000000\n",
       "7552  1/13/2020  3288.13    3246.814444\n",
       "7553  1/14/2020  3283.15    3254.241111"
      ]
     },
     "execution_count": 10,
     "metadata": {},
     "output_type": "execute_result"
    }
   ],
   "source": [
    "SPX.tail()"
   ]
  },
  {
   "cell_type": "markdown",
   "metadata": {},
   "source": [
    "Import the timeit library:"
   ]
  },
  {
   "cell_type": "code",
   "execution_count": 11,
   "metadata": {},
   "outputs": [],
   "source": [
    "import timeit"
   ]
  },
  {
   "cell_type": "code",
   "execution_count": 12,
   "metadata": {},
   "outputs": [],
   "source": [
    "number_of_times = 10"
   ]
  },
  {
   "cell_type": "code",
   "execution_count": 16,
   "metadata": {},
   "outputs": [
    {
     "name": "stdout",
     "output_type": "stream",
     "text": [
      "Average time of execution in seconds is: 4.299598364899998\n"
     ]
    }
   ],
   "source": [
    "code_to_time = '''\n",
    "for i in range(0,SPX.shape[0]):\n",
    "    if i > 8:\n",
    "        ma = np.mean(SPX['PX_LAST'][i-9:i])\n",
    "        SPX.loc[i, \"MovingAverage\"] = ma\n",
    "'''        \n",
    "time_of_execution = timeit.timeit(stmt = code_to_time, number = number_of_times, globals = globals()) / number_of_times\n",
    "print('Average time of execution in seconds is: ' + str(time_of_execution))\n",
    "\n"
   ]
  }
 ],
 "metadata": {
  "kernelspec": {
   "display_name": "Python 3",
   "language": "python",
   "name": "python3"
  },
  "language_info": {
   "codemirror_mode": {
    "name": "ipython",
    "version": 3
   },
   "file_extension": ".py",
   "mimetype": "text/x-python",
   "name": "python",
   "nbconvert_exporter": "python",
   "pygments_lexer": "ipython3",
   "version": "3.7.4"
  }
 },
 "nbformat": 4,
 "nbformat_minor": 2
}
